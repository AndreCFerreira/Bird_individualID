{
 "cells": [
  {
   "cell_type": "markdown",
   "metadata": {},
   "source": [
    "## Extracting region of interest\n",
    "##### the code used to load the trained model was adapted from https://github.com/matterport/Mask_RCNN/blob/master/samples/balloon/inspect_balloon_data.ipynb\n"
   ]
  },
  {
   "cell_type": "code",
   "execution_count": null,
   "metadata": {},
   "outputs": [],
   "source": [
    "#importing the necessary modules\n",
    "import os\n",
    "import sys\n",
    "import tensorflow as tf\n",
    "from imutils import paths\n",
    "import cv2\n",
    "import numpy\n",
    "# Root directory of the project\n",
    "ROOT_DIR = os.path.abspath(\"../../\")\n",
    "sys.path.append(ROOT_DIR) \n",
    "from samples.balloon import balloon\n",
    "import mrcnn.model as modellib"
   ]
  },
  {
   "cell_type": "markdown",
   "metadata": {},
   "source": [
    "## Load the trained model"
   ]
  },
  {
   "cell_type": "code",
   "execution_count": null,
   "metadata": {},
   "outputs": [],
   "source": [
    "# define the directory of the model and the model weights\n",
    "model_directory_path = \"PATH/TO/Mask_RCNN-master/logs/PROJECT_NAME/\"\n",
    "weights_path = \"PATH/TO/Mask_RCNN-master/logs/PROJECT_NAME/WEIGHTS_NAME.h5\"\n",
    "\n",
    "#use the same configuration as the balloon example\n",
    "config = balloon.BalloonConfig()\n",
    "DEVICE = \"/gpu:0\"  #define if images are going to be processed in the gpu or the cpu\n",
    "\n",
    "#open the model\n",
    "with tf.device(DEVICE):\n",
    "    model = modellib.MaskRCNN(mode=\"inference\", model_dir=model_directory_path,\n",
    "                              config=config)\n",
    "#load the weights\n",
    "model.load_weights(weights_path, by_name=True)"
   ]
  },
  {
   "cell_type": "markdown",
   "metadata": {},
   "source": [
    "## Extract the region of interest"
   ]
  },
  {
   "cell_type": "code",
   "execution_count": null,
   "metadata": {},
   "outputs": [],
   "source": [
    "#directory of the pictures to be extracted\n",
    "Original_data_set=\"PATH/TO/ORIGINAL_PICTURES\"\n",
    "#list all pictures from the directory\n",
    "imagePaths = sorted(list(paths.list_images(Original_data_set)))\n",
    "\n",
    "#loop through all pictures in the directory and extract the region of interest\n",
    "for c in range(0, len(imagePaths)):\n",
    "    #load the picture\n",
    "    image = cv2.imread(imagePaths[c])\n",
    "    # Run object detector\n",
    "    results = model.detect([image], verbose=0)[0]\n",
    "    #loop through the \"results\" to extract all regions of interest in the image\n",
    "    for i in range(0,results[\"masks\"].shape[2]):\n",
    "        #get the coordinates of the box containing the region of interest\n",
    "        x=results[\"rois\"][i][0]\n",
    "        y=results[\"rois\"][i][1]\n",
    "        w=results[\"rois\"][i][2]\n",
    "        h=results[\"rois\"][i][3]\n",
    "        \n",
    "        #transform every pixel that is not part of the region of interest to black\n",
    "        mask=results[\"masks\"][:, :, i].astype(numpy.uint8)\n",
    "        contours, im2 = cv2.findContours(mask,cv2.RETR_TREE,cv2.CHAIN_APPROX_SIMPLE)\n",
    "        stencil = numpy.zeros(image.shape).astype(image.dtype)\n",
    "        color = [255, 255, 255]\n",
    "        cv2.fillPoly(stencil, contours, color)\n",
    "        result = cv2.bitwise_and(image, stencil)\n",
    "        \n",
    "        #extract the box containing the region of interest and save the image\n",
    "        result=result[x:w,y:h]\n",
    "        cv2.imwrite(\"PATH/TO/EXTRACTED_PICTURES_FOLDER/\"+str(i)+\"_\"+imagePaths[c].split(\"/\")[-1:][0], result)"
   ]
  }
 ],
 "metadata": {
  "kernelspec": {
   "display_name": "Python 3",
   "language": "python",
   "name": "python3"
  },
  "language_info": {
   "codemirror_mode": {
    "name": "ipython",
    "version": 3
   },
   "file_extension": ".py",
   "mimetype": "text/x-python",
   "name": "python",
   "nbconvert_exporter": "python",
   "pygments_lexer": "ipython3",
   "version": "3.6.8"
  }
 },
 "nbformat": 4,
 "nbformat_minor": 2
}
