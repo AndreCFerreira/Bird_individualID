{
 "cells": [
  {
   "cell_type": "code",
   "execution_count": null,
   "metadata": {},
   "outputs": [],
   "source": [
    "#load the necessary modules\n",
    "from imutils import paths\n",
    "from random import shuffle\n",
    "import os\n",
    "import numpy as np\n",
    "import skimage\n",
    "from skimage.measure import compare_ssim\n",
    "import cv2\n",
    "from shutil import copyfile\n",
    "import random\n",
    "#code adapted from https://ourcodeworld.com/articles/read/991/how-to-calculate-the-structural-similarity-index-ssim-between-two-images-with-python"
   ]
  },
  {
   "cell_type": "markdown",
   "metadata": {},
   "source": [
    "#### Pictures of each of the individuals should be in different folders. For example if training a model to classify 3 classes the directory of the original dataset should be:\n",
    "    PATH/TO/ORIGINAL_DATASET/\n",
    "                         Class_A/\n",
    "                                 Class_A_image1.jpg\n",
    "                                 Class_A_image2.jpg\n",
    "                                 Class_A_image3.jpg\n",
    "                                 .\n",
    "                                 .\n",
    "                                 .\n",
    "                                 \n",
    "                         Class_B/\n",
    "                                 Class_B_image1.jpg\n",
    "                                 .\n",
    "                                 .\n",
    "                                 .\n",
    "                         Class_C/\n",
    "                                 Class_C_image1.jpg"
   ]
  },
  {
   "cell_type": "code",
   "execution_count": null,
   "metadata": {},
   "outputs": [],
   "source": [
    "#Create a list with the name of the birds to loop through all individuals\n",
    "birds=[\"007\",\n",
    "       \"103\",\n",
    "       \"107\",\n",
    "       \"179\",\n",
    "       \"194\"]"
   ]
  },
  {
   "cell_type": "code",
   "execution_count": null,
   "metadata": {
    "scrolled": false
   },
   "outputs": [],
   "source": [
    "#Total number of pictures to be moved\n",
    "number_of_pictures=160\n",
    "#similarity threshold to decide if the picture should be included\n",
    "threshold=0.50\n",
    "#Create a variable to note if the picture should be selected (if it is not similar to any other picture)\n",
    "move=0\n",
    "#get the path to the dataset\n",
    "Dataset=\"/PATH/TO/ORIGINAL_DATASET\"\n",
    "#loop through all birds identities and copy the pictures to the new folder if the similarity index \n",
    "#is lower than the threshold\n",
    "\n",
    "for bird in birds:\n",
    "    #create an empty list to store the pictures already copied for the current bird\n",
    "    imagePaths_new_folder=[]\n",
    "    #loop to copy the pictures to the new folder for the current bird\n",
    "    #until enough pictures are copied\n",
    "    while len(imagePaths_new_folder)<number_of_pictures:  \n",
    "        #list all pictures in the original dataset\n",
    "        imagePaths = sorted(list(paths.list_images(Dataset)))\n",
    "        #select pictures for the current bird\n",
    "        imagePaths =  [pic for pic in imagePaths if bird in pic]\n",
    "        #get the path to the folder where the pictures will be copied\n",
    "        destination_folder=\"/PATH/TO/THE_NEW_DATASET/\"+bird\n",
    "        #list all pictures that are already in the destination_folder\n",
    "        imagePaths_new_folder = sorted(list(paths.list_images(destination_folder)))\n",
    "\n",
    "        #if the destination folder is empty (first picture) copy a random picture to start\n",
    "        if len(imagePaths_new_folder)==0:\n",
    "            #select a picture\n",
    "            pic_dir=imagePaths[random.randint(0, len(imagePaths)-1)]\n",
    "            #copy the picture to the new folder\n",
    "            copyfile(pic_dir, destination_folder+\"/\"+pic_dir.split(\"/\")[-1:][0])\n",
    "        \n",
    "        #if there are already pictures in the destination folder\n",
    "        #compare a random picture with all pictures already copied\n",
    "        #using the similarity index\n",
    "        if len(imagePaths_new_folder)>0:\n",
    "            #seletct a picture\n",
    "            pic_dir=imagePaths[random.randint(0,len(imagePaths)-1)]\n",
    "            #open and resize the picture (it can be to the size used by the CNN) so that all pictures have the same size\n",
    "            picture = cv2.imread(pic_dir)\n",
    "            picture=cv2.resize(picture, (224,224))\n",
    "            #compare the picture to all other pictures already in the folder\n",
    "            for c in range(0, len(imagePaths_new_folder)):\n",
    "                tmp_pic=cv2.imread(imagePaths_new_folder[c])\n",
    "                tmp_pic=cv2.resize(tmp_pic, (224,224))\n",
    "                grayA = cv2.cvtColor(picture, cv2.COLOR_BGR2GRAY)\n",
    "                grayB = cv2.cvtColor(tmp_pic, cv2.COLOR_BGR2GRAY)\n",
    "                #compute the similarity index\n",
    "                (score, diff) = compare_ssim(grayA, grayB, full=True)\n",
    "                diff = (diff * 255).astype(\"uint8\")\n",
    "                #if the similarity index score is larger than the threshold\n",
    "                #mark the picture as not fit to be included in the new dataset\n",
    "                #and break the loop\n",
    "                if score>threshold:\n",
    "                    move=1\n",
    "                    break\n",
    "            #if the randomly selected picture was not similar to any of the\n",
    "            #pictures already in the new dataset copy it\n",
    "            if move==0:\n",
    "                copyfile(pic_dir, destination_folder+\"/\"+pic_dir.split(\"/\")[-1:][0])\n",
    "            move=0\n",
    "            "
   ]
  }
 ],
 "metadata": {
  "kernelspec": {
   "display_name": "Python 2",
   "language": "python",
   "name": "python2"
  },
  "language_info": {
   "codemirror_mode": {
    "name": "ipython",
    "version": 3
   },
   "file_extension": ".py",
   "mimetype": "text/x-python",
   "name": "python",
   "nbconvert_exporter": "python",
   "pygments_lexer": "ipython3",
   "version": "3.6.8"
  }
 },
 "nbformat": 4,
 "nbformat_minor": 2
}
