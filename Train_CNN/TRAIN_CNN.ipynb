{
 "cells": [
  {
   "cell_type": "code",
   "execution_count": 1,
   "metadata": {},
   "outputs": [
    {
     "name": "stderr",
     "output_type": "stream",
     "text": [
      "Using TensorFlow backend.\n"
     ]
    }
   ],
   "source": [
    "import warnings\n",
    "warnings.filterwarnings('ignore')\n",
    "#load the model and the modules\n",
    "import keras\n",
    "from keras import models, layers\n",
    "from keras.activations import relu, softmax\n",
    "from keras.applications import VGG19\n",
    "from keras.models import Sequential, load_model, Model\n",
    "from keras.optimizers import Adam, SGD\n",
    "from keras.callbacks import ModelCheckpoint, Callback, EarlyStopping\n",
    "from keras.preprocessing.image import ImageDataGenerator\n",
    "from keras.layers import Activation, Dropout, Dense, Flatten\n",
    "import matplotlib.pyplot as plt\n",
    "import sys\n",
    "from PIL import Image\n",
    "sys.modules['Image'] = Image"
   ]
  },
  {
   "cell_type": "markdown",
   "metadata": {},
   "source": [
    "### Image generators"
   ]
  },
  {
   "cell_type": "markdown",
   "metadata": {},
   "source": [
    "#### The training dataset and the validation dataset should be in seperated folders. In each of the folders  there should be a different subfolders for each of the classes (individuals).  For example if training a model to classify 3 classes the directory of the training pictures should be:\n",
    "    PATH/TO/Training_data/\n",
    "                         Class_A/\n",
    "                                 Class_A_image1.jpg\n",
    "                                 Class_A_image2.jpg\n",
    "                                 Class_A_image3.jpg\n",
    "                                 .\n",
    "                                 .\n",
    "                                 .\n",
    "                                 \n",
    "                         Class_B/\n",
    "                                 Class_B_image1.jpg\n",
    "                                 .\n",
    "                                 .\n",
    "                                 .\n",
    "                         Class_C/\n",
    "                                 Class_C_image1.jpg\n",
    "                                 .\n",
    "                                 .\n",
    "                                 ."
   ]
  },
  {
   "cell_type": "code",
   "execution_count": 2,
   "metadata": {},
   "outputs": [
    {
     "name": "stdout",
     "output_type": "stream",
     "text": [
      "Found 27000 images belonging to 30 classes.\n"
     ]
    }
   ],
   "source": [
    "            # We use a data generator to pass the images through the convolutional neural network and and apply\n",
    "#rotation and zoom transformations to the images\n",
    "\n",
    "train_data = ImageDataGenerator(\n",
    "        rotation_range=40,\n",
    "        zoom_range=0.2,\n",
    "        rescale = 1./255)\n",
    "\n",
    "train_generator = train_data.flow_from_directory(\n",
    "    directory=r\"/mnt/ubuntu_disk/Ubuntu_drive/Analises_30052019/30_individuals/Data/Train\",\n",
    "    #directory=r\"/home/andre/Desktop/All_birds/Data/35_Validation_corrected/Train_AGM\",\n",
    "        #directory=r\"/mnt/ubuntu_disk/Ubuntu_drive/Analises_30052019/30_individuals/Data/Train_AGM\",\n",
    "        #directory=r\"/PATH/TO/Training_data_set\n",
    "        target_size=(224, 224),\n",
    "        batch_size=8,\n",
    "        shuffle=True)"
   ]
  },
  {
   "cell_type": "code",
   "execution_count": 3,
   "metadata": {},
   "outputs": [
    {
     "name": "stdout",
     "output_type": "stream",
     "text": [
      "Found 27000 images belonging to 30 classes.\n"
     ]
    }
   ],
   "source": [
    "#defining the validation data generator\n",
    "val_data = ImageDataGenerator(rescale = 1./255)\n",
    "                                 \n",
    "val_generator = val_data.flow_from_directory(\n",
    "    directory=r\"/mnt/ubuntu_disk/Ubuntu_drive/Analises_30052019/30_individuals/Data/Train\",\n",
    "    #directory=r\"/home/andre/Desktop/All_birds/Data/35_Validation_corrected/Validation_AGM\",\n",
    "        #directory=r\"/mnt/ubuntu_disk/Ubuntu_drive/Analises_30052019/30_individuals/Data/Validation_AGM\",\n",
    "        #directory=r\"/PATH/TO/Validation_data_set\n",
    "        target_size=(224, 224),\n",
    "        batch_size=8,\n",
    "        shuffle=True)"
   ]
  },
  {
   "cell_type": "markdown",
   "metadata": {},
   "source": [
    "### Convolutional neural network"
   ]
  },
  {
   "cell_type": "code",
   "execution_count": 4,
   "metadata": {},
   "outputs": [],
   "source": [
    "#load the pre-trained VGG19 from keras\n",
    "vgg19 = VGG19(input_shape=(224,224,3), weights='imagenet', include_top=False)\n",
    "x = vgg19.layers[-1].output\n",
    "#add dropout and the full connected layers\n",
    "x = Dropout(0.5)(x)\n",
    "x = Flatten()(x)\n",
    "x = Dense(256, activation='relu')(x)\n",
    "#add a dense layer with a value equal to the number of classes\n",
    "predictors = Dense(30, activation='softmax')(x)\n",
    "# Create the model\n",
    "vgg19model = Model(input=vgg19.input, output=predictors)"
   ]
  },
  {
   "cell_type": "code",
   "execution_count": 5,
   "metadata": {},
   "outputs": [
    {
     "name": "stdout",
     "output_type": "stream",
     "text": [
      "_________________________________________________________________\n",
      "Layer (type)                 Output Shape              Param #   \n",
      "=================================================================\n",
      "input_1 (InputLayer)         (None, 224, 224, 3)       0         \n",
      "_________________________________________________________________\n",
      "block1_conv1 (Conv2D)        (None, 224, 224, 64)      1792      \n",
      "_________________________________________________________________\n",
      "block1_conv2 (Conv2D)        (None, 224, 224, 64)      36928     \n",
      "_________________________________________________________________\n",
      "block1_pool (MaxPooling2D)   (None, 112, 112, 64)      0         \n",
      "_________________________________________________________________\n",
      "block2_conv1 (Conv2D)        (None, 112, 112, 128)     73856     \n",
      "_________________________________________________________________\n",
      "block2_conv2 (Conv2D)        (None, 112, 112, 128)     147584    \n",
      "_________________________________________________________________\n",
      "block2_pool (MaxPooling2D)   (None, 56, 56, 128)       0         \n",
      "_________________________________________________________________\n",
      "block3_conv1 (Conv2D)        (None, 56, 56, 256)       295168    \n",
      "_________________________________________________________________\n",
      "block3_conv2 (Conv2D)        (None, 56, 56, 256)       590080    \n",
      "_________________________________________________________________\n",
      "block3_conv3 (Conv2D)        (None, 56, 56, 256)       590080    \n",
      "_________________________________________________________________\n",
      "block3_conv4 (Conv2D)        (None, 56, 56, 256)       590080    \n",
      "_________________________________________________________________\n",
      "block3_pool (MaxPooling2D)   (None, 28, 28, 256)       0         \n",
      "_________________________________________________________________\n",
      "block4_conv1 (Conv2D)        (None, 28, 28, 512)       1180160   \n",
      "_________________________________________________________________\n",
      "block4_conv2 (Conv2D)        (None, 28, 28, 512)       2359808   \n",
      "_________________________________________________________________\n",
      "block4_conv3 (Conv2D)        (None, 28, 28, 512)       2359808   \n",
      "_________________________________________________________________\n",
      "block4_conv4 (Conv2D)        (None, 28, 28, 512)       2359808   \n",
      "_________________________________________________________________\n",
      "block4_pool (MaxPooling2D)   (None, 14, 14, 512)       0         \n",
      "_________________________________________________________________\n",
      "block5_conv1 (Conv2D)        (None, 14, 14, 512)       2359808   \n",
      "_________________________________________________________________\n",
      "block5_conv2 (Conv2D)        (None, 14, 14, 512)       2359808   \n",
      "_________________________________________________________________\n",
      "block5_conv3 (Conv2D)        (None, 14, 14, 512)       2359808   \n",
      "_________________________________________________________________\n",
      "block5_conv4 (Conv2D)        (None, 14, 14, 512)       2359808   \n",
      "_________________________________________________________________\n",
      "block5_pool (MaxPooling2D)   (None, 7, 7, 512)         0         \n",
      "_________________________________________________________________\n",
      "dropout_1 (Dropout)          (None, 7, 7, 512)         0         \n",
      "_________________________________________________________________\n",
      "flatten_1 (Flatten)          (None, 25088)             0         \n",
      "_________________________________________________________________\n",
      "dense_1 (Dense)              (None, 256)               6422784   \n",
      "_________________________________________________________________\n",
      "dense_2 (Dense)              (None, 30)                7710      \n",
      "=================================================================\n",
      "Total params: 26,454,878\n",
      "Trainable params: 26,454,878\n",
      "Non-trainable params: 0\n",
      "_________________________________________________________________\n"
     ]
    }
   ],
   "source": [
    "#check the model\n",
    "vgg19model.summary()"
   ]
  },
  {
   "cell_type": "markdown",
   "metadata": {},
   "source": [
    "### Model training"
   ]
  },
  {
   "cell_type": "code",
   "execution_count": 8,
   "metadata": {},
   "outputs": [],
   "source": [
    "# define where to save the model after each epoch\n",
    "filepath = \"PATH/TO/Save_model.h5\"\n",
    "# add a critera to save only if there was an improvement in the model comparing\n",
    "# to the previous epoch (in this caset the model is saved if there was a decrease in the loss value)\n",
    "checkpoint = ModelCheckpoint(filepath, monitor='val_loss', verbose=1, save_best_only=True, mode='min')\n",
    "# stop training if there is no improvement in model for 3 consecutives epochs.\n",
    "early_stopping_monitor = EarlyStopping(patience=3)\n",
    "callbacks_list = [checkpoint, early_stopping_monitor]"
   ]
  },
  {
   "cell_type": "code",
   "execution_count": 9,
   "metadata": {},
   "outputs": [],
   "source": [
    "# Compile the model\n",
    "vgg19model.compile(loss='categorical_crossentropy',\n",
    "              optimizer=Adam(lr=1e-5),\n",
    "              metrics=['acc'])"
   ]
  },
  {
   "cell_type": "code",
   "execution_count": 9,
   "metadata": {
    "scrolled": true
   },
   "outputs": [
    {
     "name": "stdout",
     "output_type": "stream",
     "text": [
      "Epoch 1/30\n",
      "3375/3375 [==============================] - 934s 277ms/step - loss: 3.3986 - acc: 0.0378 - val_loss: 3.3612 - val_acc: 0.0571\n",
      "\n",
      "Epoch 00001: val_loss improved from inf to 3.36124, saving model to /mnt/ubuntu_disk/Ubuntu_drive/Analises_30052019/30_individuals/Models/VGG19_30ind_d5_at_dense_NoAGM.h5\n",
      "Epoch 2/30\n",
      "3375/3375 [==============================] - 666s 197ms/step - loss: 3.0958 - acc: 0.1035 - val_loss: 2.5839 - val_acc: 0.2701\n",
      "\n",
      "Epoch 00002: val_loss improved from 3.36124 to 2.58393, saving model to /mnt/ubuntu_disk/Ubuntu_drive/Analises_30052019/30_individuals/Models/VGG19_30ind_d5_at_dense_NoAGM.h5\n",
      "Epoch 3/30\n",
      "3375/3375 [==============================] - 699s 207ms/step - loss: 1.4534 - acc: 0.5919 - val_loss: 0.9525 - val_acc: 0.7634\n",
      "\n",
      "Epoch 00003: val_loss improved from 2.58393 to 0.95255, saving model to /mnt/ubuntu_disk/Ubuntu_drive/Analises_30052019/30_individuals/Models/VGG19_30ind_d5_at_dense_NoAGM.h5\n",
      "Epoch 4/30\n",
      "3375/3375 [==============================] - 700s 207ms/step - loss: 0.5561 - acc: 0.8653 - val_loss: 0.6917 - val_acc: 0.8451\n",
      "\n",
      "Epoch 00004: val_loss improved from 0.95255 to 0.69167, saving model to /mnt/ubuntu_disk/Ubuntu_drive/Analises_30052019/30_individuals/Models/VGG19_30ind_d5_at_dense_NoAGM.h5\n",
      "Epoch 5/30\n",
      "3375/3375 [==============================] - 700s 207ms/step - loss: 0.3633 - acc: 0.9183 - val_loss: 0.6823 - val_acc: 0.8473\n",
      "\n",
      "Epoch 00005: val_loss improved from 0.69167 to 0.68228, saving model to /mnt/ubuntu_disk/Ubuntu_drive/Analises_30052019/30_individuals/Models/VGG19_30ind_d5_at_dense_NoAGM.h5\n",
      "Epoch 6/30\n",
      "3375/3375 [==============================] - 703s 208ms/step - loss: 0.2833 - acc: 0.9366 - val_loss: 0.5099 - val_acc: 0.8976\n",
      "\n",
      "Epoch 00006: val_loss improved from 0.68228 to 0.50989, saving model to /mnt/ubuntu_disk/Ubuntu_drive/Analises_30052019/30_individuals/Models/VGG19_30ind_d5_at_dense_NoAGM.h5\n",
      "Epoch 7/30\n",
      "3375/3375 [==============================] - 704s 209ms/step - loss: 0.2371 - acc: 0.9473 - val_loss: 0.4599 - val_acc: 0.9073\n",
      "\n",
      "Epoch 00007: val_loss improved from 0.50989 to 0.45985, saving model to /mnt/ubuntu_disk/Ubuntu_drive/Analises_30052019/30_individuals/Models/VGG19_30ind_d5_at_dense_NoAGM.h5\n",
      "Epoch 8/30\n",
      "3375/3375 [==============================] - 699s 207ms/step - loss: 0.2006 - acc: 0.9542 - val_loss: 0.5757 - val_acc: 0.8783\n",
      "\n",
      "Epoch 00008: val_loss did not improve from 0.45985\n",
      "Epoch 9/30\n",
      "3375/3375 [==============================] - 699s 207ms/step - loss: 0.1739 - acc: 0.9594 - val_loss: 0.5257 - val_acc: 0.9084\n",
      "\n",
      "Epoch 00009: val_loss did not improve from 0.45985\n",
      "Epoch 10/30\n",
      "3375/3375 [==============================] - 698s 207ms/step - loss: 0.1493 - acc: 0.9633 - val_loss: 0.5027 - val_acc: 0.9109\n",
      "\n",
      "Epoch 00010: val_loss did not improve from 0.45985\n"
     ]
    },
    {
     "data": {
      "text/plain": [
       "<keras.callbacks.History at 0x7f8e749e6240>"
      ]
     },
     "execution_count": 9,
     "metadata": {},
     "output_type": "execute_result"
    }
   ],
   "source": [
    "#train the model\n",
    "batch_size=8\n",
    "model.fit_generator(\n",
    "        train_generator,\n",
    "        steps_per_epoch=27000//batch_size,#number of pictures divided by the batch size\n",
    "        epochs=30,\n",
    "        validation_data=val_generator,\n",
    "        validation_steps= 3000// batch_size,\n",
    "        callbacks=callbacks_list)"
   ]
  },
  {
   "cell_type": "markdown",
   "metadata": {},
   "source": [
    "#### If you want to continue training the model with a diferent optimizer or learning rate load the last saved model and compile the model again before training\n"
   ]
  },
  {
   "cell_type": "code",
   "execution_count": 13,
   "metadata": {
    "scrolled": true
   },
   "outputs": [
    {
     "name": "stdout",
     "output_type": "stream",
     "text": [
      "Epoch 1/30\n",
      "3375/3375 [==============================] - 624s 185ms/step - loss: 0.1948 - acc: 0.9550 - val_loss: 0.4389 - val_acc: 0.9144\n",
      "\n",
      "Epoch 00001: val_loss improved from 0.45985 to 0.43888, saving model to /mnt/ubuntu_disk/Ubuntu_drive/Analises_30052019/30_individuals/Models/VGG19_30ind_d5_at_dense_NoAGM.h5\n",
      "Epoch 2/30\n",
      "3375/3375 [==============================] - 626s 186ms/step - loss: 0.1794 - acc: 0.9590 - val_loss: 0.4296 - val_acc: 0.9179\n",
      "\n",
      "Epoch 00002: val_loss improved from 0.43888 to 0.42955, saving model to /mnt/ubuntu_disk/Ubuntu_drive/Analises_30052019/30_individuals/Models/VGG19_30ind_d5_at_dense_NoAGM.h5\n",
      "Epoch 3/30\n",
      "3375/3375 [==============================] - 656s 194ms/step - loss: 0.1761 - acc: 0.9596 - val_loss: 0.4300 - val_acc: 0.9221\n",
      "\n",
      "Epoch 00003: val_loss did not improve from 0.42955\n",
      "Epoch 4/30\n",
      "3375/3375 [==============================] - 655s 194ms/step - loss: 0.1759 - acc: 0.9602 - val_loss: 0.4269 - val_acc: 0.9230\n",
      "\n",
      "Epoch 00004: val_loss improved from 0.42955 to 0.42694, saving model to /mnt/ubuntu_disk/Ubuntu_drive/Analises_30052019/30_individuals/Models/VGG19_30ind_d5_at_dense_NoAGM.h5\n",
      "Epoch 5/30\n",
      "3375/3375 [==============================] - 655s 194ms/step - loss: 0.1674 - acc: 0.9624 - val_loss: 0.4249 - val_acc: 0.9226\n",
      "\n",
      "Epoch 00005: val_loss improved from 0.42694 to 0.42490, saving model to /mnt/ubuntu_disk/Ubuntu_drive/Analises_30052019/30_individuals/Models/VGG19_30ind_d5_at_dense_NoAGM.h5\n",
      "Epoch 6/30\n",
      "3375/3375 [==============================] - 656s 194ms/step - loss: 0.1629 - acc: 0.9621 - val_loss: 0.4262 - val_acc: 0.9236\n",
      "\n",
      "Epoch 00006: val_loss did not improve from 0.42490\n",
      "Epoch 7/30\n",
      "3375/3375 [==============================] - 655s 194ms/step - loss: 0.1654 - acc: 0.9626 - val_loss: 0.4241 - val_acc: 0.9235\n",
      "\n",
      "Epoch 00007: val_loss improved from 0.42490 to 0.42408, saving model to /mnt/ubuntu_disk/Ubuntu_drive/Analises_30052019/30_individuals/Models/VGG19_30ind_d5_at_dense_NoAGM.h5\n",
      "Epoch 8/30\n",
      "3375/3375 [==============================] - 656s 194ms/step - loss: 0.1639 - acc: 0.9622 - val_loss: 0.4218 - val_acc: 0.9231\n",
      "\n",
      "Epoch 00008: val_loss improved from 0.42408 to 0.42179, saving model to /mnt/ubuntu_disk/Ubuntu_drive/Analises_30052019/30_individuals/Models/VGG19_30ind_d5_at_dense_NoAGM.h5\n",
      "Epoch 9/30\n",
      "3375/3375 [==============================] - 658s 195ms/step - loss: 0.1619 - acc: 0.9634 - val_loss: 0.4296 - val_acc: 0.9231\n",
      "\n",
      "Epoch 00009: val_loss did not improve from 0.42179\n",
      "Epoch 10/30\n",
      "3375/3375 [==============================] - 659s 195ms/step - loss: 0.1614 - acc: 0.9633 - val_loss: 0.4260 - val_acc: 0.9233\n",
      "\n",
      "Epoch 00010: val_loss did not improve from 0.42179\n",
      "Epoch 11/30\n",
      "3375/3375 [==============================] - 659s 195ms/step - loss: 0.1600 - acc: 0.9638 - val_loss: 0.4211 - val_acc: 0.9236\n",
      "\n",
      "Epoch 00011: val_loss improved from 0.42179 to 0.42113, saving model to /mnt/ubuntu_disk/Ubuntu_drive/Analises_30052019/30_individuals/Models/VGG19_30ind_d5_at_dense_NoAGM.h5\n",
      "Epoch 12/30\n",
      "3375/3375 [==============================] - 660s 196ms/step - loss: 0.1641 - acc: 0.9632 - val_loss: 0.4202 - val_acc: 0.9231\n",
      "\n",
      "Epoch 00012: val_loss improved from 0.42113 to 0.42024, saving model to /mnt/ubuntu_disk/Ubuntu_drive/Analises_30052019/30_individuals/Models/VGG19_30ind_d5_at_dense_NoAGM.h5\n",
      "Epoch 13/30\n",
      "3375/3375 [==============================] - 655s 194ms/step - loss: 0.1592 - acc: 0.9640 - val_loss: 0.4349 - val_acc: 0.9220\n",
      "\n",
      "Epoch 00013: val_loss did not improve from 0.42024\n",
      "Epoch 14/30\n",
      "3375/3375 [==============================] - 655s 194ms/step - loss: 0.1591 - acc: 0.9643 - val_loss: 0.4153 - val_acc: 0.9235\n",
      "\n",
      "Epoch 00014: val_loss improved from 0.42024 to 0.41534, saving model to /mnt/ubuntu_disk/Ubuntu_drive/Analises_30052019/30_individuals/Models/VGG19_30ind_d5_at_dense_NoAGM.h5\n",
      "Epoch 15/30\n",
      "3375/3375 [==============================] - 655s 194ms/step - loss: 0.1575 - acc: 0.9637 - val_loss: 0.4227 - val_acc: 0.9246\n",
      "\n",
      "Epoch 00015: val_loss did not improve from 0.41534\n",
      "Epoch 16/30\n",
      "3375/3375 [==============================] - 636s 188ms/step - loss: 0.1589 - acc: 0.9637 - val_loss: 0.4292 - val_acc: 0.9211\n",
      "\n",
      "Epoch 00016: val_loss did not improve from 0.41534\n",
      "Epoch 17/30\n",
      "3375/3375 [==============================] - 625s 185ms/step - loss: 0.1567 - acc: 0.9644 - val_loss: 0.4306 - val_acc: 0.9211\n",
      "\n",
      "Epoch 00017: val_loss did not improve from 0.41534\n"
     ]
    },
    {
     "data": {
      "text/plain": [
       "<keras.callbacks.History at 0x7f8de8e7e128>"
      ]
     },
     "execution_count": 13,
     "metadata": {},
     "output_type": "execute_result"
    }
   ],
   "source": [
    "#load the model\n",
    "model=load_model(\"PATH/TO/Save_model.h5\")\n",
    "\n",
    "# Compile the model\n",
    "model.compile(loss='categorical_crossentropy',\n",
    "             optimizer=SGD(lr=1e-6),\n",
    "             metrics=['acc'])\n",
    "#train the model\n",
    "batch_size=8\n",
    "model_history_2=vgg19model.fit_generator(\n",
    "        train_generator,\n",
    "        steps_per_epoch=162000//batch_size,\n",
    "        epochs=30,\n",
    "        validation_data=val_generator,\n",
    "        validation_steps= 18000// batch_size,\n",
    "        callbacks=callbacks_list)"
   ]
  },
  {
   "cell_type": "code",
   "execution_count": 12,
   "metadata": {},
   "outputs": [],
   "source": [
    "# Train_loss=[1.66, 0.2426, 0.1421, 0.1296, 0.1247, 0.1236, 0.1202, 0.1193, 0.1185, 0.1163 ,0.1167,0.1166, 0.1151, 0.1145]\n",
    "# Val_loss=[0.6277, 0.5178, 0.5557, 0.536, 0.5276, 0.5263, 0.5203, 0.5185, 0.5173, 0.5173, 0.5159, 0.5155, 0.5159, 0.5127]\n",
    "\n",
    "# Train_acc=[0.5447, 0.9435, 0.9647, 0.9679, 0.9691, 0.9693, 0.97, 0.9702, 0.9706, 0.9711, 0.971, 0.9709, 0.9712, 0.9714]\n",
    "# Val_acc=[0.8609, 0.8812, 0.8992, 0.9041, 0.907, 0.9075, 0.9087, 0.9089, 0.9093, 0.9096, 0.909, 0.9093, 0.9093, 0.903]\n",
    "\n",
    "# Train_loss=[3.3986, 3.0958, 1.4534, 0.5561, 0.3633, 0.2833, 0.2371, 0.1948, 0.1794, 0.1761, 0.1759, 0.1674, 0.1629, 0.1654, 0.1639, 0.1619, 0.1614, 0.16, 0.1641, 0.1592, 0.1591]\n",
    "# Val_loss=[3.3612, 2.5839, 0.9525, 0.6917, 0.6823, 0.5099, 0.4599, 0.4389, 0.4296, 0.43, 0.4269, 0.4249, 0.4262, 0.4241, 0.4218, 0.4296, 0.426, 0.4211, 0.4202, 0.4349, 0.4153]\n",
    "\n",
    "# Train_acc=[0.0378, 0.1035, 0.5919, 0.8653, 0.9183, 0.9366, 0.9473, 0.955, 0.959, 0.9596, 0.9602, 0.9624, 0.9621, 0.9626, 0.9622, 0.9634, 0.9633, 0.9638, 0.9632, 0.964, 0.9643]\n",
    "# Val_acc=[0.0571, 0.2701, 0.7634, 0.8451, 0.8473, 0.8976, 0.9073, 0.9144, 0.9179, 0.9221, 0.923, 0.9226, 0.9236, 0.9235, 0.9231, 0.9231, 0.9233, 0.9236, 0.9231, 0.922, 0.9235]\n",
    "\n",
    "# fig=plt.figure(figsize=(15,5))\n",
    "# columns = 2\n",
    "# rows = 1\n",
    "\n",
    "# fig.add_subplot(rows, columns, 1)\n",
    "# plt.plot(Train_loss)\n",
    "# plt.plot(Val_loss)\n",
    "# plt.title('loss')\n",
    "# plt.ylabel('loss')\n",
    "# plt.xlabel('epoch')\n",
    "# plt.legend(['train', 'val'], loc='upper left')\n",
    "\n",
    "# fig.add_subplot(rows, columns, 2)\n",
    "# plt.plot(Train_acc)\n",
    "# plt.plot(Val_acc)\n",
    "# plt.title('accuracy')\n",
    "# plt.ylabel('accuracy')\n",
    "# plt.xlabel('epoch')\n",
    "# plt.legend(['train', 'val'], loc='upper left')\n",
    "# plt.show()"
   ]
  },
  {
   "cell_type": "markdown",
   "metadata": {},
   "source": [
    "#### After training its possible to visualize the training process and check for overfitting."
   ]
  },
  {
   "cell_type": "code",
   "execution_count": 17,
   "metadata": {},
   "outputs": [
    {
     "data": {
      "image/png": "[encoded data removed]",
      "text/plain": [
       "<Figure size 1080x360 with 2 Axes>"
      ]
     },
     "metadata": {
      "needs_background": "light"
     },
     "output_type": "display_data"
    }
   ],
   "source": [
    "#size of the plots\n",
    "fig=plt.figure(figsize=(15,5))\n",
    "columns = 2\n",
    "rows = 1\n",
    "\n",
    "#plot loss\n",
    "fig.add_subplot(rows, columns, 1)\n",
    "plt.plot(model_history.history['loss']+ model_history_2.history['loss']) \n",
    "plt.plot(model_history.history['val_loss']+ model_history_2.history['val_loss'])\n",
    "plt.title('loss')\n",
    "plt.ylabel('loss')\n",
    "plt.xlabel('epoch')\n",
    "plt.legend(['train', 'val'], loc='upper left')\n",
    "\n",
    "#plot accuracy\n",
    "fig.add_subplot(rows, columns, 2)\n",
    "plt.plot(model_history.history['acc']+ model_history_2.history['acc'])\n",
    "plt.plot(model_history.history['val_acc']+ model_history_2.history['val_acc'])\n",
    "plt.title('accuracy')\n",
    "plt.ylabel('accuracy')\n",
    "plt.xlabel('epoch')\n",
    "plt.legend(['train', 'val'], loc='upper left')\n",
    "plt.show()"
   ]
  },
  {
   "cell_type": "markdown",
   "metadata": {},
   "source": [
    "### Model Generalization\n",
    "\n",
    "#### in order to evaluate the model the model generalization capability you can see how the model performs when exposed to images collected in diferent conditions.\n",
    "#### Here this testing dataset will be loaded using image generators like the training and the validation dataset"
   ]
  },
  {
   "cell_type": "code",
   "execution_count": 2,
   "metadata": {},
   "outputs": [],
   "source": [
    "#after \n",
    "#model=load_model(\"PATH/TO/Save_model.h5\")\n",
    "#model=load_model(\"/mnt/ubuntu_disk/Ubuntu_drive/Analises_30052019/30_individuals/Models/VGG19_30ind_d5_at_dense.h5\")"
   ]
  },
  {
   "cell_type": "markdown",
   "metadata": {},
   "source": [
    "#### Close"
   ]
  },
  {
   "cell_type": "code",
   "execution_count": 17,
   "metadata": {},
   "outputs": [
    {
     "name": "stdout",
     "output_type": "stream",
     "text": [
      "Found 95 images belonging to 30 classes.\n",
      "0.9263157894736842\n"
     ]
    }
   ],
   "source": [
    "val_sony_datagen1 = ImageDataGenerator(rescale = 1./255)\n",
    "val_sony_datagen = val_sony_datagen1.flow_from_directory(\n",
    "        directory=r\"/mnt/ubuntu_disk/Ubuntu_drive/Analises_30052019/30_individuals/Data/Generalization/Close\",\n",
    "        target_size=(224, 224),\n",
    "        batch_size=500,\n",
    "        shuffle=False)\n",
    "\n",
    "x_batch, y_batch=next(val_sony_datagen)\n",
    "\n",
    "acertou=[]\n",
    "nao_acertou=[]\n",
    "for i in range(0,len(x_batch)):\n",
    "    a=np.expand_dims(x_batch[i], axis=0)\n",
    "    result=model.predict(a)\n",
    "    if np.where(y_batch[i] == np.amax(y_batch[i]))[0][0]+1==np.where(result == np.amax(result))[1][0]+1:\n",
    "        acertou.append(i)\n",
    "    else:\n",
    "        nao_acertou.append(i)\n",
    "print(len(acertou)/(len(nao_acertou)+len(acertou)))\n"
   ]
  },
  {
   "cell_type": "code",
   "execution_count": null,
   "metadata": {},
   "outputs": [],
   "source": []
  },
  {
   "cell_type": "markdown",
   "metadata": {},
   "source": [
    "#### Far"
   ]
  },
  {
   "cell_type": "code",
   "execution_count": 4,
   "metadata": {},
   "outputs": [
    {
     "name": "stdout",
     "output_type": "stream",
     "text": [
      "Found 72 images belonging to 30 classes.\n",
      "0.9722222222222222\n"
     ]
    }
   ],
   "source": [
    "val_sony_datagen1 = ImageDataGenerator(rescale = 1./255)\n",
    "val_sony_datagen = val_sony_datagen1.flow_from_directory(\n",
    "        directory=r\"/mnt/ubuntu_disk/Ubuntu_drive/Analises_30052019/30_individuals/Data/Generalization/Far\",\n",
    "        target_size=(224, 224),\n",
    "        batch_size=500,\n",
    "        shuffle=False)\n",
    "\n",
    "x_batch, y_batch=next(val_sony_datagen)\n",
    "\n",
    "acertou=[]\n",
    "nao_acertou=[]\n",
    "for i in range(0,len(x_batch)):\n",
    "    a=np.expand_dims(x_batch[i], axis=0)\n",
    "    result=model.predict(a)\n",
    "    if np.where(y_batch[i] == np.amax(y_batch[i]))[0][0]+1==np.where(result == np.amax(result))[1][0]+1:\n",
    "        acertou.append(i)\n",
    "    else:\n",
    "        nao_acertou.append(i)\n",
    "print(len(acertou)/(len(nao_acertou)+len(acertou)))\n"
   ]
  },
  {
   "cell_type": "markdown",
   "metadata": {},
   "source": [
    "#### Ground"
   ]
  },
  {
   "cell_type": "code",
   "execution_count": 5,
   "metadata": {},
   "outputs": [
    {
     "name": "stdout",
     "output_type": "stream",
     "text": [
      "Found 90 images belonging to 30 classes.\n",
      "0.9444444444444444\n"
     ]
    }
   ],
   "source": [
    "val_sony_datagen1 = ImageDataGenerator(rescale = 1./255)\n",
    "val_sony_datagen = val_sony_datagen1.flow_from_directory(\n",
    "        directory=r\"/mnt/ubuntu_disk/Ubuntu_drive/Analises_30052019/30_individuals/Data/Generalization/Ground\",\n",
    "        target_size=(224, 224),\n",
    "        batch_size=500,\n",
    "        shuffle=False)\n",
    "\n",
    "x_batch, y_batch=next(val_sony_datagen)\n",
    "\n",
    "acertou=[]\n",
    "nao_acertou=[]\n",
    "for i in range(0,len(x_batch)):\n",
    "    a=np.expand_dims(x_batch[i], axis=0)\n",
    "    result=model.predict(a)\n",
    "    if np.where(y_batch[i] == np.amax(y_batch[i]))[0][0]+1==np.where(result == np.amax(result))[1][0]+1:\n",
    "        acertou.append(i)\n",
    "    else:\n",
    "        nao_acertou.append(i)\n",
    "print(len(acertou)/(len(nao_acertou)+len(acertou)))"
   ]
  },
  {
   "cell_type": "markdown",
   "metadata": {},
   "source": [
    "#### Top"
   ]
  },
  {
   "cell_type": "code",
   "execution_count": 6,
   "metadata": {},
   "outputs": [
    {
     "name": "stdout",
     "output_type": "stream",
     "text": [
      "Found 83 images belonging to 30 classes.\n",
      "0.9156626506024096\n"
     ]
    }
   ],
   "source": [
    "val_sony_datagen1 = ImageDataGenerator(rescale = 1./255)\n",
    "val_sony_datagen = val_sony_datagen1.flow_from_directory(\n",
    "        directory=r\"/mnt/ubuntu_disk/Ubuntu_drive/Analises_30052019/30_individuals/Data/Generalization/Top\",\n",
    "        target_size=(224, 224),\n",
    "        batch_size=500,\n",
    "        shuffle=False)\n",
    "\n",
    "x_batch, y_batch=next(val_sony_datagen)\n",
    "\n",
    "acertou=[]\n",
    "nao_acertou=[]\n",
    "for i in range(0,len(x_batch)):\n",
    "    a=np.expand_dims(x_batch[i], axis=0)\n",
    "    result=model.predict(a)\n",
    "    if np.where(y_batch[i] == np.amax(y_batch[i]))[0][0]+1==np.where(result == np.amax(result))[1][0]+1:\n",
    "        acertou.append(i)\n",
    "    else:\n",
    "        nao_acertou.append(i)\n",
    "print(len(acertou)/(len(nao_acertou)+len(acertou)))\n"
   ]
  },
  {
   "cell_type": "markdown",
   "metadata": {},
   "source": [
    "#### Two months"
   ]
  },
  {
   "cell_type": "code",
   "execution_count": 7,
   "metadata": {},
   "outputs": [
    {
     "name": "stdout",
     "output_type": "stream",
     "text": [
      "Found 59 images belonging to 30 classes.\n",
      "0.0847457627118644\n"
     ]
    }
   ],
   "source": [
    "val_sony_datagen1 = ImageDataGenerator(rescale = 1./255)\n",
    "val_sony_datagen = val_sony_datagen1.flow_from_directory(\n",
    "        directory=r\"/mnt/ubuntu_disk/Ubuntu_drive/Analises_30052019/30_individuals/Data/Generalization/Two_months\",\n",
    "        target_size=(224, 224),\n",
    "        batch_size=500,\n",
    "        shuffle=False)\n",
    "\n",
    "x_batch, y_batch=next(val_sony_datagen)\n",
    "\n",
    "acertou=[]\n",
    "nao_acertou=[]\n",
    "for i in range(0,len(x_batch)):\n",
    "    a=np.expand_dims(x_batch[i], axis=0)\n",
    "    result=model.predict(a)\n",
    "    if np.where(y_batch[i] == np.amax(y_batch[i]))[0][0]+1==np.where(result == np.amax(result))[1][0]+1:\n",
    "        acertou.append(i)\n",
    "    else:\n",
    "        nao_acertou.append(i)\n",
    "print(len(acertou)/(len(nao_acertou)+len(acertou)))\n"
   ]
  },
  {
   "cell_type": "markdown",
   "metadata": {},
   "source": [
    "### Rotations top"
   ]
  },
  {
   "cell_type": "code",
   "execution_count": 5,
   "metadata": {},
   "outputs": [
    {
     "name": "stdout",
     "output_type": "stream",
     "text": [
      "Found 24 images belonging to 30 classes.\n",
      "/home/andre/Desktop/All_birds/Data/Generalization/30/10days/011016B1FB/011016B1FB_0923_01_131218_1.jpg\n",
      "None\n",
      "/home/andre/Desktop/All_birds/Data/Generalization/30/10days/011016B1FB/011016B1FB_0927_01_131218_1.jpg\n",
      "None\n",
      "/home/andre/Desktop/All_birds/Data/Generalization/30/10days/011016B1FB/011016B1FB_1005_01_131218_16.jpg\n",
      "None\n",
      "/home/andre/Desktop/All_birds/Data/Generalization/30/10days/011016BE08/011016BE08_05_0038_towmonths28_12_2018.jpg\n",
      "None\n",
      "/home/andre/Desktop/All_birds/Data/Generalization/30/10days/011016BE08/011016BE08_05_0045_towmonths28_12_2018.jpg\n",
      "None\n",
      "/home/andre/Desktop/All_birds/Data/Generalization/30/10days/011016C8B0/011016C8B0_05_0213_towmonths28_12_2018.jpg\n",
      "None\n",
      "/home/andre/Desktop/All_birds/Data/Generalization/30/10days/0417D30D92/0417D30D92_0213_13_131218_8.jpg\n",
      "None\n",
      "/home/andre/Desktop/All_birds/Data/Generalization/30/10days/0417D30D92/0417D30D92_0839_12_131218_31.jpg\n",
      "None\n",
      "/home/andre/Desktop/All_birds/Data/Generalization/30/10days/0417D30D92/0417D30D92_num27_13_12_10_0737_feederB_0001.jpg\n",
      "None\n",
      "/home/andre/Desktop/All_birds/Data/Generalization/30/10days/0417D30D92/0417D30D92_num27_13_12_10_0739_feederB_0001.jpg\n",
      "None\n",
      "/home/andre/Desktop/All_birds/Data/Generalization/30/10days/0700EE42FD/0700EE42FD_05_0001_towmonths28_12_2018.jpg\n",
      "None\n",
      "/home/andre/Desktop/All_birds/Data/Generalization/30/10days/0700EE42FD/0700EE42FD_05_0006_towmonths28_12_2018.jpg\n",
      "None\n",
      "0.5\n"
     ]
    }
   ],
   "source": [
    "Original_data_setTrain=\"/home/andre/Desktop/All_birds/Data/Generalization/30/10days\"\n",
    "imagePathsTrain = sorted(list(paths.list_images(Original_data_setTrain)))\n",
    "from scipy.stats import entropy\n",
    "val_sony_datagen1 = ImageDataGenerator(rescale = 1./255)\n",
    "val_sony_datagen = val_sony_datagen1.flow_from_directory(\n",
    "        directory=r\"/home/andre/Desktop/All_birds/Data/Generalization/30/10days\",\n",
    "        target_size=(224, 224),\n",
    "        batch_size=500,\n",
    "        shuffle=False)\n",
    "\n",
    "x_batch, y_batch=next(val_sony_datagen)\n",
    "\n",
    "acertou=[]\n",
    "nao_acertou=[]\n",
    "for i in range(0,len(x_batch)):\n",
    "    a=np.expand_dims(x_batch[i], axis=0)\n",
    "    result=model.predict(a)\n",
    "    if np.where(y_batch[i] == np.amax(y_batch[i]))[0][0]+1==np.where(result == np.amax(result))[1][0]+1:\n",
    "        acertou.append(i)\n",
    "        #print(entropy(result[0]))\n",
    "        print(print(imagePathsTrain[i]))\n",
    "    else:\n",
    "        nao_acertou.append(i)\n",
    "        #print(imagePathsTrain[i])\n",
    "        \n",
    "print(len(acertou)/(len(nao_acertou)+len(acertou)))"
   ]
  },
  {
   "cell_type": "markdown",
   "metadata": {},
   "source": [
    "### Validation per Bird"
   ]
  },
  {
   "cell_type": "code",
   "execution_count": null,
   "metadata": {},
   "outputs": [],
   "source": [
    "%%capture\n",
    "from shutil import copyfile\n",
    "from imutils import paths\n",
    "import random\n",
    "import os\n",
    "results=[]\n",
    "for Tag in Tags:\n",
    "    Original_data_setTrain=\"/home/andre/Desktop/All_birds/Data/Dataset/Validation/\"+Tag\n",
    "    outputfolderTrain=\"/home/andre/Desktop/All_birds/Data/Dataset/Validationtest/\"+Tag+\"/\"\n",
    "    imagePathsTrain = sorted(list(paths.list_images(Original_data_setTrain)))\n",
    "    random.shuffle(imagePathsTrain)\n",
    "    imagePathsTrain=imagePathsTrain[0:100]\n",
    "    for imagePath in imagePathsTrain:\n",
    "        name=imagePath.split(os.path.sep)[-1]\n",
    "        name=outputfolderTrain+name\n",
    "        copyfile(imagePath, name)\n",
    "        val_sony_datagen1 = ImageDataGenerator(rescale = 1./255,\n",
    "                                        #preprocessing_function=preprocess\n",
    "                                        #rotation_range=40,\n",
    "                                    #shear_range = 0.2,\n",
    "                                    #zoom_range = 0.2\n",
    "                                    #horizontal_flip = True)\n",
    "                                        )\n",
    "    val_sony_datagen = val_sony_datagen1.flow_from_directory(\n",
    "            directory=r\"/home/andre/Desktop/All_birds/Data/Dataset/Validationtest\",\n",
    "            target_size=(224, 224),\n",
    "            batch_size=100,\n",
    "            shuffle=False)\n",
    "\n",
    "    x_batch, y_batch = next(val_sony_datagen)\n",
    "    acertou=[]\n",
    "    nao_acertou=[]\n",
    "    for i in range(0,len(x_batch)):\n",
    "        #print(\"pred:\")\n",
    "        a=np.expand_dims(x_batch[i], axis=0)\n",
    "        result=model.predict(a)\n",
    "            #print(np.where(result == np.amax(result))[1][0]+1)\n",
    "            #print(result)\n",
    "            #print(\"true:\")\n",
    "            #print(np.where(val_sonny_labels[i] == np.amax(val_sonny_labels[i]))[0][0]+1)\n",
    "        if np.where(y_batch[i] == np.amax(y_batch[i]))[0][0]+1==np.where(result == np.amax(result))[1][0]+1:\n",
    "            acertou.append(i)\n",
    "        else:\n",
    "            nao_acertou.append(i)\n",
    "    #print(Tag)\n",
    "    #print(len(acertou)/(len(nao_acertou)+len(acertou)))\n",
    "    results.append([Tag, len(acertou)/(len(nao_acertou)+len(acertou))])\n",
    "    \n",
    "    imagePathsValidationtest =sorted(list(paths.list_images(outputfolderTrain)))\n",
    "    \n",
    "    for imagePath in imagePathsValidationtest:\n",
    "        os.remove(imagePath)"
   ]
  }
 ],
 "metadata": {
  "kernelspec": {
   "display_name": "Python 3",
   "language": "python",
   "name": "python3"
  },
  "language_info": {
   "codemirror_mode": {
    "name": "ipython",
    "version": 3
   },
   "file_extension": ".py",
   "mimetype": "text/x-python",
   "name": "python",
   "nbconvert_exporter": "python",
   "pygments_lexer": "ipython3",
   "version": "3.6.8"
  }
 },
 "nbformat": 4,
 "nbformat_minor": 2
}
